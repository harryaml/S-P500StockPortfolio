{
 "cells": [
  {
   "cell_type": "code",
   "execution_count": 1,
   "metadata": {},
   "outputs": [],
   "source": [
    "import numpy as np\n",
    "import matplotlib.pyplot as plt\n",
    "import pandas as pd\n",
    "import datetime"
   ]
  },
  {
   "cell_type": "markdown",
   "metadata": {},
   "source": [
    "From our volatility analysis, it seems the most profitable stock is Amazon. In this part, we try and predict the open stock prices of Amazon with a simple LSTM. Since I don't know which particular architect, we choose a simple one."
   ]
  },
  {
   "cell_type": "code",
   "execution_count": 2,
   "metadata": {},
   "outputs": [],
   "source": [
    "amzn = pd.read_csv('StockData/AMZN.csv', index_col = 'Date')"
   ]
  },
  {
   "cell_type": "markdown",
   "metadata": {},
   "source": [
    "We will use years 2014 to the end of 2018 as our training set, and then test our model on current months of 2019."
   ]
  },
  {
   "cell_type": "code",
   "execution_count": 3,
   "metadata": {},
   "outputs": [],
   "source": [
    "amznTrain = amzn.loc[(amzn.index>='2014-01-01') & (amzn.index<='2018-12-31')]"
   ]
  },
  {
   "cell_type": "code",
   "execution_count": 4,
   "metadata": {},
   "outputs": [
    {
     "data": {
      "text/html": [
       "<div>\n",
       "<style scoped>\n",
       "    .dataframe tbody tr th:only-of-type {\n",
       "        vertical-align: middle;\n",
       "    }\n",
       "\n",
       "    .dataframe tbody tr th {\n",
       "        vertical-align: top;\n",
       "    }\n",
       "\n",
       "    .dataframe thead th {\n",
       "        text-align: right;\n",
       "    }\n",
       "</style>\n",
       "<table border=\"1\" class=\"dataframe\">\n",
       "  <thead>\n",
       "    <tr style=\"text-align: right;\">\n",
       "      <th></th>\n",
       "      <th>High</th>\n",
       "      <th>Low</th>\n",
       "      <th>Open</th>\n",
       "      <th>Close</th>\n",
       "      <th>Volume</th>\n",
       "      <th>Adj Close</th>\n",
       "    </tr>\n",
       "    <tr>\n",
       "      <th>Date</th>\n",
       "      <th></th>\n",
       "      <th></th>\n",
       "      <th></th>\n",
       "      <th></th>\n",
       "      <th></th>\n",
       "      <th></th>\n",
       "    </tr>\n",
       "  </thead>\n",
       "  <tbody>\n",
       "    <tr>\n",
       "      <th>2014-01-02</th>\n",
       "      <td>399.359985</td>\n",
       "      <td>394.019989</td>\n",
       "      <td>398.799988</td>\n",
       "      <td>397.970001</td>\n",
       "      <td>2137800</td>\n",
       "      <td>397.970001</td>\n",
       "    </tr>\n",
       "    <tr>\n",
       "      <th>2014-01-03</th>\n",
       "      <td>402.709991</td>\n",
       "      <td>396.220001</td>\n",
       "      <td>398.290009</td>\n",
       "      <td>396.440002</td>\n",
       "      <td>2210200</td>\n",
       "      <td>396.440002</td>\n",
       "    </tr>\n",
       "    <tr>\n",
       "      <th>2014-01-06</th>\n",
       "      <td>397.000000</td>\n",
       "      <td>388.420013</td>\n",
       "      <td>395.850006</td>\n",
       "      <td>393.630005</td>\n",
       "      <td>3170600</td>\n",
       "      <td>393.630005</td>\n",
       "    </tr>\n",
       "    <tr>\n",
       "      <th>2014-01-07</th>\n",
       "      <td>398.470001</td>\n",
       "      <td>394.290009</td>\n",
       "      <td>395.040009</td>\n",
       "      <td>398.029999</td>\n",
       "      <td>1916000</td>\n",
       "      <td>398.029999</td>\n",
       "    </tr>\n",
       "    <tr>\n",
       "      <th>2014-01-08</th>\n",
       "      <td>403.000000</td>\n",
       "      <td>396.040009</td>\n",
       "      <td>398.470001</td>\n",
       "      <td>401.920013</td>\n",
       "      <td>2316500</td>\n",
       "      <td>401.920013</td>\n",
       "    </tr>\n",
       "  </tbody>\n",
       "</table>\n",
       "</div>"
      ],
      "text/plain": [
       "                  High         Low        Open       Close   Volume  \\\n",
       "Date                                                                  \n",
       "2014-01-02  399.359985  394.019989  398.799988  397.970001  2137800   \n",
       "2014-01-03  402.709991  396.220001  398.290009  396.440002  2210200   \n",
       "2014-01-06  397.000000  388.420013  395.850006  393.630005  3170600   \n",
       "2014-01-07  398.470001  394.290009  395.040009  398.029999  1916000   \n",
       "2014-01-08  403.000000  396.040009  398.470001  401.920013  2316500   \n",
       "\n",
       "             Adj Close  \n",
       "Date                    \n",
       "2014-01-02  397.970001  \n",
       "2014-01-03  396.440002  \n",
       "2014-01-06  393.630005  \n",
       "2014-01-07  398.029999  \n",
       "2014-01-08  401.920013  "
      ]
     },
     "execution_count": 4,
     "metadata": {},
     "output_type": "execute_result"
    }
   ],
   "source": [
    "amznTrain.head()"
   ]
  },
  {
   "cell_type": "code",
   "execution_count": 5,
   "metadata": {},
   "outputs": [
    {
     "data": {
      "text/plain": [
       "High         False\n",
       "Low          False\n",
       "Open         False\n",
       "Close        False\n",
       "Volume       False\n",
       "Adj Close    False\n",
       "dtype: bool"
      ]
     },
     "execution_count": 5,
     "metadata": {},
     "output_type": "execute_result"
    }
   ],
   "source": [
    "#making sure there are no NA values\n",
    "amznTrain.isna().any()"
   ]
  },
  {
   "cell_type": "code",
   "execution_count": 6,
   "metadata": {},
   "outputs": [
    {
     "name": "stderr",
     "output_type": "stream",
     "text": [
      "Using TensorFlow backend.\n"
     ]
    }
   ],
   "source": [
    "from keras.layers import Dense\n",
    "from keras.layers import Dropout\n",
    "from keras.layers import LSTM\n",
    "from keras.models import Sequential\n",
    "from sklearn.preprocessing import MinMaxScaler"
   ]
  },
  {
   "cell_type": "code",
   "execution_count": 7,
   "metadata": {},
   "outputs": [],
   "source": [
    "trainSet = amznTrain['Open']\n",
    "trainSet = pd.DataFrame(trainSet)"
   ]
  },
  {
   "cell_type": "code",
   "execution_count": 8,
   "metadata": {},
   "outputs": [],
   "source": [
    "sc = MinMaxScaler(feature_range = (0, 1))\n",
    "scaleTSet = sc.fit_transform(trainSet)"
   ]
  },
  {
   "cell_type": "code",
   "execution_count": 9,
   "metadata": {},
   "outputs": [
    {
     "data": {
      "text/plain": [
       "1258"
      ]
     },
     "execution_count": 9,
     "metadata": {},
     "output_type": "execute_result"
    }
   ],
   "source": [
    "len(scaleTSet)"
   ]
  },
  {
   "cell_type": "code",
   "execution_count": 10,
   "metadata": {},
   "outputs": [],
   "source": [
    "XTrain = []\n",
    "yTrain = []\n",
    "for i in range(50, 1258):\n",
    "    XTrain.append(scaleTSet[i-50:i,0])\n",
    "    yTrain.append(scaleTSet[i,0])\n",
    "XTrain, yTrain = np.array(XTrain), np.array(yTrain)\n",
    "\n",
    "XTrain = np.reshape(XTrain, (XTrain.shape[0], XTrain.shape[1], 1))"
   ]
  },
  {
   "cell_type": "code",
   "execution_count": 12,
   "metadata": {},
   "outputs": [],
   "source": [
    "model = Sequential()\n",
    "model.add(LSTM(units = 50, return_sequences = True, input_shape = (XTrain.shape[1], 1)))\n",
    "model.add(Dropout(0.2))\n",
    "model.add(LSTM(units = 50, return_sequences = True))\n",
    "model.add(Dropout(0.2))\n",
    "model.add(LSTM(units = 50))\n",
    "model.add(Dropout(0.2))\n",
    "model.add(Dense(units = 1))"
   ]
  },
  {
   "cell_type": "code",
   "execution_count": 25,
   "metadata": {},
   "outputs": [
    {
     "name": "stdout",
     "output_type": "stream",
     "text": [
      "Epoch 1/50\n",
      "1208/1208 [==============================] - 15s 12ms/step - loss: 0.0046\n",
      "Epoch 2/50\n",
      "1208/1208 [==============================] - 12s 10ms/step - loss: 0.0028\n",
      "Epoch 3/50\n",
      "1208/1208 [==============================] - 12s 10ms/step - loss: 0.0025\n",
      "Epoch 4/50\n",
      "1208/1208 [==============================] - 12s 10ms/step - loss: 0.0021\n",
      "Epoch 5/50\n",
      "1208/1208 [==============================] - 13s 11ms/step - loss: 0.0021\n",
      "Epoch 6/50\n",
      "1208/1208 [==============================] - 13s 10ms/step - loss: 0.0024\n",
      "Epoch 7/50\n",
      "1208/1208 [==============================] - 13s 11ms/step - loss: 0.0020\n",
      "Epoch 8/50\n",
      "1208/1208 [==============================] - 13s 11ms/step - loss: 0.0021\n",
      "Epoch 9/50\n",
      "1208/1208 [==============================] - 13s 10ms/step - loss: 0.0017\n",
      "Epoch 10/50\n",
      "1208/1208 [==============================] - 13s 10ms/step - loss: 0.0020\n",
      "Epoch 11/50\n",
      "1208/1208 [==============================] - 13s 10ms/step - loss: 0.0016\n",
      "Epoch 12/50\n",
      "1208/1208 [==============================] - 13s 10ms/step - loss: 0.0018\n",
      "Epoch 13/50\n",
      "1208/1208 [==============================] - 13s 10ms/step - loss: 0.0016\n",
      "Epoch 14/50\n",
      "1208/1208 [==============================] - 13s 11ms/step - loss: 0.0020\n",
      "Epoch 15/50\n",
      "1208/1208 [==============================] - 13s 10ms/step - loss: 0.0018\n",
      "Epoch 16/50\n",
      "1208/1208 [==============================] - 13s 11ms/step - loss: 0.0019\n",
      "Epoch 17/50\n",
      "1208/1208 [==============================] - 13s 11ms/step - loss: 0.0014\n",
      "Epoch 18/50\n",
      "1208/1208 [==============================] - 13s 11ms/step - loss: 0.0016\n",
      "Epoch 19/50\n",
      "1208/1208 [==============================] - 13s 11ms/step - loss: 0.0014\n",
      "Epoch 20/50\n",
      "1208/1208 [==============================] - 13s 11ms/step - loss: 0.0014\n",
      "Epoch 21/50\n",
      "1208/1208 [==============================] - 13s 11ms/step - loss: 0.0016\n",
      "Epoch 22/50\n",
      "1208/1208 [==============================] - 13s 11ms/step - loss: 0.0015\n",
      "Epoch 23/50\n",
      "1208/1208 [==============================] - 13s 11ms/step - loss: 0.0017\n",
      "Epoch 24/50\n",
      "1208/1208 [==============================] - 13s 11ms/step - loss: 0.0014\n",
      "Epoch 25/50\n",
      "1208/1208 [==============================] - 13s 11ms/step - loss: 0.0013\n",
      "Epoch 26/50\n",
      "1208/1208 [==============================] - 14s 11ms/step - loss: 0.0014\n",
      "Epoch 27/50\n",
      "1208/1208 [==============================] - 13s 11ms/step - loss: 0.0017\n",
      "Epoch 28/50\n",
      "1208/1208 [==============================] - 13s 11ms/step - loss: 0.0014\n",
      "Epoch 29/50\n",
      "1208/1208 [==============================] - 13s 11ms/step - loss: 0.0014\n",
      "Epoch 30/50\n",
      "1208/1208 [==============================] - 13s 11ms/step - loss: 0.0014\n",
      "Epoch 31/50\n",
      "1208/1208 [==============================] - 15s 12ms/step - loss: 0.0013\n",
      "Epoch 32/50\n",
      "1208/1208 [==============================] - 14s 11ms/step - loss: 0.0012\n",
      "Epoch 33/50\n",
      "1208/1208 [==============================] - 13s 11ms/step - loss: 0.0014\n",
      "Epoch 34/50\n",
      "1208/1208 [==============================] - 13s 11ms/step - loss: 0.0017\n",
      "Epoch 35/50\n",
      "1208/1208 [==============================] - 13s 11ms/step - loss: 0.0013\n",
      "Epoch 36/50\n",
      "1208/1208 [==============================] - 13s 11ms/step - loss: 0.0014\n",
      "Epoch 37/50\n",
      "1208/1208 [==============================] - 13s 11ms/step - loss: 0.0018\n",
      "Epoch 38/50\n",
      "1208/1208 [==============================] - 13s 11ms/step - loss: 0.0013\n",
      "Epoch 39/50\n",
      "1208/1208 [==============================] - 13s 11ms/step - loss: 0.0014\n",
      "Epoch 40/50\n",
      "1208/1208 [==============================] - 13s 11ms/step - loss: 0.0013\n",
      "Epoch 41/50\n",
      "1208/1208 [==============================] - 13s 11ms/step - loss: 0.0012\n",
      "Epoch 42/50\n",
      "1208/1208 [==============================] - 13s 11ms/step - loss: 0.0013\n",
      "Epoch 43/50\n",
      "1208/1208 [==============================] - 13s 11ms/step - loss: 0.0012\n",
      "Epoch 44/50\n",
      "1208/1208 [==============================] - 13s 11ms/step - loss: 0.0013\n",
      "Epoch 45/50\n",
      "1208/1208 [==============================] - 13s 11ms/step - loss: 0.0014\n",
      "Epoch 46/50\n",
      "1208/1208 [==============================] - 13s 11ms/step - loss: 0.0012\n",
      "Epoch 47/50\n",
      "1208/1208 [==============================] - 13s 11ms/step - loss: 9.5743e-04\n",
      "Epoch 48/50\n",
      "1208/1208 [==============================] - 13s 11ms/step - loss: 0.0012\n",
      "Epoch 49/50\n",
      "1208/1208 [==============================] - 13s 11ms/step - loss: 0.0011\n",
      "Epoch 50/50\n",
      "1208/1208 [==============================] - 13s 11ms/step - loss: 0.0011\n"
     ]
    },
    {
     "data": {
      "text/plain": [
       "<keras.callbacks.History at 0x1a219fa2e8>"
      ]
     },
     "execution_count": 25,
     "metadata": {},
     "output_type": "execute_result"
    }
   ],
   "source": [
    "#fitting the model\n",
    "model.compile(optimizer = 'adam', loss = 'mean_squared_error')\n",
    "model.fit(XTrain, yTrain, epochs = 50, batch_size = 32)"
   ]
  },
  {
   "cell_type": "code",
   "execution_count": 26,
   "metadata": {},
   "outputs": [],
   "source": [
    "amznTest = amzn.loc[(amzn.index>='2019-01-01')]"
   ]
  },
  {
   "cell_type": "code",
   "execution_count": 27,
   "metadata": {},
   "outputs": [
    {
     "data": {
      "text/html": [
       "<div>\n",
       "<style scoped>\n",
       "    .dataframe tbody tr th:only-of-type {\n",
       "        vertical-align: middle;\n",
       "    }\n",
       "\n",
       "    .dataframe tbody tr th {\n",
       "        vertical-align: top;\n",
       "    }\n",
       "\n",
       "    .dataframe thead th {\n",
       "        text-align: right;\n",
       "    }\n",
       "</style>\n",
       "<table border=\"1\" class=\"dataframe\">\n",
       "  <thead>\n",
       "    <tr style=\"text-align: right;\">\n",
       "      <th></th>\n",
       "      <th>High</th>\n",
       "      <th>Low</th>\n",
       "      <th>Open</th>\n",
       "      <th>Close</th>\n",
       "      <th>Volume</th>\n",
       "      <th>Adj Close</th>\n",
       "    </tr>\n",
       "    <tr>\n",
       "      <th>Date</th>\n",
       "      <th></th>\n",
       "      <th></th>\n",
       "      <th></th>\n",
       "      <th></th>\n",
       "      <th></th>\n",
       "      <th></th>\n",
       "    </tr>\n",
       "  </thead>\n",
       "  <tbody>\n",
       "    <tr>\n",
       "      <th>2019-01-02</th>\n",
       "      <td>1553.359985</td>\n",
       "      <td>1460.930054</td>\n",
       "      <td>1465.199951</td>\n",
       "      <td>1539.130005</td>\n",
       "      <td>7983100</td>\n",
       "      <td>1539.130005</td>\n",
       "    </tr>\n",
       "    <tr>\n",
       "      <th>2019-01-03</th>\n",
       "      <td>1538.000000</td>\n",
       "      <td>1497.109985</td>\n",
       "      <td>1520.010010</td>\n",
       "      <td>1500.280029</td>\n",
       "      <td>6975600</td>\n",
       "      <td>1500.280029</td>\n",
       "    </tr>\n",
       "    <tr>\n",
       "      <th>2019-01-04</th>\n",
       "      <td>1594.000000</td>\n",
       "      <td>1518.310059</td>\n",
       "      <td>1530.000000</td>\n",
       "      <td>1575.390015</td>\n",
       "      <td>9182600</td>\n",
       "      <td>1575.390015</td>\n",
       "    </tr>\n",
       "    <tr>\n",
       "      <th>2019-01-07</th>\n",
       "      <td>1634.560059</td>\n",
       "      <td>1589.189941</td>\n",
       "      <td>1602.310059</td>\n",
       "      <td>1629.510010</td>\n",
       "      <td>7993200</td>\n",
       "      <td>1629.510010</td>\n",
       "    </tr>\n",
       "    <tr>\n",
       "      <th>2019-01-08</th>\n",
       "      <td>1676.609985</td>\n",
       "      <td>1616.609985</td>\n",
       "      <td>1664.689941</td>\n",
       "      <td>1656.579956</td>\n",
       "      <td>8881400</td>\n",
       "      <td>1656.579956</td>\n",
       "    </tr>\n",
       "  </tbody>\n",
       "</table>\n",
       "</div>"
      ],
      "text/plain": [
       "                   High          Low         Open        Close   Volume  \\\n",
       "Date                                                                      \n",
       "2019-01-02  1553.359985  1460.930054  1465.199951  1539.130005  7983100   \n",
       "2019-01-03  1538.000000  1497.109985  1520.010010  1500.280029  6975600   \n",
       "2019-01-04  1594.000000  1518.310059  1530.000000  1575.390015  9182600   \n",
       "2019-01-07  1634.560059  1589.189941  1602.310059  1629.510010  7993200   \n",
       "2019-01-08  1676.609985  1616.609985  1664.689941  1656.579956  8881400   \n",
       "\n",
       "              Adj Close  \n",
       "Date                     \n",
       "2019-01-02  1539.130005  \n",
       "2019-01-03  1500.280029  \n",
       "2019-01-04  1575.390015  \n",
       "2019-01-07  1629.510010  \n",
       "2019-01-08  1656.579956  "
      ]
     },
     "execution_count": 27,
     "metadata": {},
     "output_type": "execute_result"
    }
   ],
   "source": [
    "amznTest.head()"
   ]
  },
  {
   "cell_type": "code",
   "execution_count": 28,
   "metadata": {},
   "outputs": [],
   "source": [
    "realPrice = amznTest.iloc[:,1:2].values"
   ]
  },
  {
   "cell_type": "code",
   "execution_count": 29,
   "metadata": {},
   "outputs": [],
   "source": [
    "testSet = amznTest['Open']\n",
    "testSet = pd.DataFrame(testSet)"
   ]
  },
  {
   "cell_type": "code",
   "execution_count": 31,
   "metadata": {},
   "outputs": [],
   "source": [
    "allSet = pd.concat((amznTrain['Open'], amznTest['Open']), axis = 0)\n",
    "inputs = allSet[len(allSet) - len(testSet) - 50:].values\n",
    "inputs = inputs.reshape(-1,1)\n",
    "inputs = sc.transform(inputs)\n",
    "XTest = []\n",
    "for i in range(50, 116):\n",
    "    XTest.append(inputs[i-50:i, 0])\n",
    "XTest = np.array(XTest)\n",
    "XTest = np.reshape(XTest, (XTest.shape[0], XTest.shape[1], 1))\n",
    "predPrice = model.predict(XTest)\n",
    "predPrice = sc.inverse_transform(predPrice)"
   ]
  },
  {
   "cell_type": "code",
   "execution_count": 32,
   "metadata": {},
   "outputs": [
    {
     "name": "stdout",
     "output_type": "stream",
     "text": [
      "<class 'pandas.core.frame.DataFrame'>\n",
      "RangeIndex: 66 entries, 0 to 65\n",
      "Data columns (total 1 columns):\n",
      "0    66 non-null float32\n",
      "dtypes: float32(1)\n",
      "memory usage: 344.0 bytes\n"
     ]
    }
   ],
   "source": [
    "predPrice = pd.DataFrame(predPrice)\n",
    "predPrice.info()"
   ]
  },
  {
   "cell_type": "code",
   "execution_count": 33,
   "metadata": {},
   "outputs": [],
   "source": [
    "#predPrice"
   ]
  },
  {
   "cell_type": "code",
   "execution_count": 37,
   "metadata": {},
   "outputs": [
    {
     "data": {
      "image/png": "[encoded data removed]",
      "text/plain": [
       "<Figure size 1152x720 with 1 Axes>"
      ]
     },
     "metadata": {},
     "output_type": "display_data"
    }
   ],
   "source": [
    "plt.style.use('seaborn')\n",
    "plt.figure(figsize=(16, 10))\n",
    "plt.plot(realPrice, color = 'red', label = 'Real Amazon Stock Price')\n",
    "plt.plot(predPrice, color = 'blue', label = 'Predicted Amazon Stock Price')\n",
    "plt.title('Amazon Stock Price Prediction')\n",
    "plt.xlabel('Time', fontsize = 15)\n",
    "plt.ylabel('Price in USD', fontsize = 15)\n",
    "plt.legend()\n",
    "plt.show()"
   ]
  },
  {
   "cell_type": "markdown",
   "metadata": {},
   "source": [
    "Not too bad for a simple architect."
   ]
  },
  {
   "cell_type": "code",
   "execution_count": null,
   "metadata": {},
   "outputs": [],
   "source": []
  }
 ],
 "metadata": {
  "kernelspec": {
   "display_name": "Python 3",
   "language": "python",
   "name": "python3"
  },
  "language_info": {
   "codemirror_mode": {
    "name": "ipython",
    "version": 3
   },
   "file_extension": ".py",
   "mimetype": "text/x-python",
   "name": "python",
   "nbconvert_exporter": "python",
   "pygments_lexer": "ipython3",
   "version": "3.6.8"
  }
 },
 "nbformat": 4,
 "nbformat_minor": 2
}
