{
 "cells": [
  {
   "cell_type": "markdown",
   "metadata": {},
   "source": [
    "The S&P 500 is an American stock market index based on the market capitalizations of 500 large companies having common stock listed on the NYSE, NASDAQ, or the Cboe BZX Exchange.  "
   ]
  },
  {
   "cell_type": "code",
   "execution_count": 80,
   "metadata": {},
   "outputs": [],
   "source": [
    "from mpl_finance import candlestick_ohlc\n",
    "import bs4 as bs\n",
    "import datetime as dt\n",
    "import numpy as np\n",
    "import pandas as pd\n",
    "import pandas_datareader.data as pdr\n",
    "import pickle\n",
    "import requests\n",
    "import os"
   ]
  },
  {
   "cell_type": "markdown",
   "metadata": {},
   "source": [
    "To extract the stock data of these 500 companies, we first need the Ticker Symbols for each of these companies. We scrape these symbols from the following URL. "
   ]
  },
  {
   "cell_type": "code",
   "execution_count": 2,
   "metadata": {},
   "outputs": [],
   "source": [
    "URL = 'https://en.wikipedia.org/wiki/List_of_S%26P_500_companies'\n",
    "response = requests.get(URL)\n",
    "soup = bs.BeautifulSoup(response.content, 'html.parser')"
   ]
  },
  {
   "cell_type": "code",
   "execution_count": 17,
   "metadata": {},
   "outputs": [],
   "source": [
    "#Inspect element on the URL to find the table class name for the S&P500 elements. \n",
    "#Since we are only interested in the first table, use soup.find.\n",
    "table = soup.find('table', {'class':'wikitable sortable'}).tbody "
   ]
  },
  {
   "cell_type": "code",
   "execution_count": 30,
   "metadata": {},
   "outputs": [],
   "source": [
    "#Get the column index from the table with the Ticker Symbols.\n",
    "rows = table.findAll('tr')\n",
    "columns = [c.text.replace('\\n', '') for c in rows[0].findAll('th')]\n",
    "idx =0;\n",
    "for i in range(0,len(columns)):\n",
    "    if columns[i] == 'Symbol':\n",
    "        idx = i\n",
    "        break;"
   ]
  },
  {
   "cell_type": "code",
   "execution_count": 37,
   "metadata": {},
   "outputs": [],
   "source": [
    "#Extract the Ticker Symbols into a list.\n",
    "def getTSymbolList():\n",
    "    tSymbols = []\n",
    "    rows = table.findAll('tr')\n",
    "    for row in rows[1:]:\n",
    "        tSymbol = row.findAll('td')[idx].text\n",
    "        tSymbols.append(tSymbol)\n",
    "    return tSymbols"
   ]
  },
  {
   "cell_type": "code",
   "execution_count": 54,
   "metadata": {},
   "outputs": [],
   "source": [
    "#Saves this list into a file using Pickle.\n",
    "f = open(\"TSymbols.pickle\", \"wb\")\n",
    "pickle.dump(getTSymbolList(),f)\n",
    "f.close()"
   ]
  },
  {
   "cell_type": "markdown",
   "metadata": {},
   "source": [
    "The following functions scrapes the Yahoo Stock data of all S&P500 companies from start date=start to end date=end and stores them in newly created StockData folder. We use pandas_datareader.data to do this."
   ]
  },
  {
   "cell_type": "code",
   "execution_count": 94,
   "metadata": {},
   "outputs": [],
   "source": [
    "def getYahooData(start, end):\n",
    "    if not os.path.isfile('TSymbols.pickle'):\n",
    "        print('Ticker Symbols file doesn\\'t exist, please create one.')\n",
    "    else:\n",
    "        with open(\"TSymbols.pickle\", \"rb\") as g:\n",
    "                tSymbols = pickle.load(g)\n",
    "\n",
    "        if not os.path.exists('StockData'):\n",
    "            os.makedirs('StockData')\n",
    "\n",
    "        for tSymbol in tSymbols:\n",
    "            print(tSymbol)\n",
    "            if not os.path.exists('StockData/{}.csv'.format(tSymbol)):\n",
    "                df = pdr.DataReader(tSymbol.replace('.',''), 'yahoo', start, end) \n",
    "                df.to_csv('StockData/{}.csv'.format(tSymbol))\n",
    "            else:\n",
    "                print('Already have {}'.format(tSymbol))"
   ]
  },
  {
   "cell_type": "code",
   "execution_count": 95,
   "metadata": {},
   "outputs": [],
   "source": [
    "start = dt.datetime(2000, 1, 1)\n",
    "end = dt.datetime.now()"
   ]
  },
  {
   "cell_type": "code",
   "execution_count": 98,
   "metadata": {},
   "outputs": [],
   "source": [
    "getYahooData(start, end)"
   ]
  }
 ],
 "metadata": {
  "kernelspec": {
   "display_name": "Python 3",
   "language": "python",
   "name": "python3"
  },
  "language_info": {
   "codemirror_mode": {
    "name": "ipython",
    "version": 3
   },
   "file_extension": ".py",
   "mimetype": "text/x-python",
   "name": "python",
   "nbconvert_exporter": "python",
   "pygments_lexer": "ipython3",
   "version": "3.7.1"
  }
 },
 "nbformat": 4,
 "nbformat_minor": 2
}
